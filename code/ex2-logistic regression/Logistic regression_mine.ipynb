{
 "cells": [
  {
   "cell_type": "markdown",
   "metadata": {},
   "source": [
    "# Logistic Regression(不带正则化)\n"
   ]
  },
  {
   "cell_type": "markdown",
   "metadata": {},
   "source": [
    "## 1. 数据可视化"
   ]
  },
  {
   "cell_type": "code",
   "execution_count": 1,
   "metadata": {},
   "outputs": [],
   "source": [
    "import numpy as np\n",
    "import pandas as pd\n",
    "import matplotlib.pyplot as plt"
   ]
  },
  {
   "cell_type": "code",
   "execution_count": 2,
   "metadata": {},
   "outputs": [
    {
     "data": {
      "text/html": [
       "<div>\n",
       "<style scoped>\n",
       "    .dataframe tbody tr th:only-of-type {\n",
       "        vertical-align: middle;\n",
       "    }\n",
       "\n",
       "    .dataframe tbody tr th {\n",
       "        vertical-align: top;\n",
       "    }\n",
       "\n",
       "    .dataframe thead th {\n",
       "        text-align: right;\n",
       "    }\n",
       "</style>\n",
       "<table border=\"1\" class=\"dataframe\">\n",
       "  <thead>\n",
       "    <tr style=\"text-align: right;\">\n",
       "      <th></th>\n",
       "      <th>Exam 1</th>\n",
       "      <th>Exam 2</th>\n",
       "      <th>Admitted</th>\n",
       "    </tr>\n",
       "  </thead>\n",
       "  <tbody>\n",
       "    <tr>\n",
       "      <th>0</th>\n",
       "      <td>34.623660</td>\n",
       "      <td>78.024693</td>\n",
       "      <td>0</td>\n",
       "    </tr>\n",
       "    <tr>\n",
       "      <th>1</th>\n",
       "      <td>30.286711</td>\n",
       "      <td>43.894998</td>\n",
       "      <td>0</td>\n",
       "    </tr>\n",
       "    <tr>\n",
       "      <th>2</th>\n",
       "      <td>35.847409</td>\n",
       "      <td>72.902198</td>\n",
       "      <td>0</td>\n",
       "    </tr>\n",
       "    <tr>\n",
       "      <th>3</th>\n",
       "      <td>60.182599</td>\n",
       "      <td>86.308552</td>\n",
       "      <td>1</td>\n",
       "    </tr>\n",
       "    <tr>\n",
       "      <th>4</th>\n",
       "      <td>79.032736</td>\n",
       "      <td>75.344376</td>\n",
       "      <td>1</td>\n",
       "    </tr>\n",
       "  </tbody>\n",
       "</table>\n",
       "</div>"
      ],
      "text/plain": [
       "      Exam 1     Exam 2  Admitted\n",
       "0  34.623660  78.024693         0\n",
       "1  30.286711  43.894998         0\n",
       "2  35.847409  72.902198         0\n",
       "3  60.182599  86.308552         1\n",
       "4  79.032736  75.344376         1"
      ]
     },
     "execution_count": 2,
     "metadata": {},
     "output_type": "execute_result"
    }
   ],
   "source": [
    "df = pd.read_csv(\"ex2data1.txt\",header=None, names=['Exam 1', 'Exam 2', 'Admitted'])\n",
    "df.head()"
   ]
  },
  {
   "cell_type": "code",
   "execution_count": 3,
   "metadata": {},
   "outputs": [
    {
     "data": {
      "image/png": "[encoded data removed]",
      "text/plain": [
       "<Figure size 864x576 with 1 Axes>"
      ]
     },
     "metadata": {
      "needs_background": "light"
     },
     "output_type": "display_data"
    }
   ],
   "source": [
    "positive = df[df['Admitted'].isin([1])]\n",
    "negative = df[df['Admitted'].isin([0])]\n",
    "fig, ax = plt.subplots(figsize = (12,8))\n",
    "ax.scatter(positive['Exam 1'], positive['Exam 2'], s=50, c='b', marker='o', label='Admitted')\n",
    "ax.scatter(negative['Exam 1'], negative['Exam 2'], s=50, c='r', marker='x', label='Not Admitted')\n",
    "ax.legend()\n",
    "ax.set_xlabel('Exam 1 Score')\n",
    "ax.set_ylabel('Exam 2 Score')\n",
    "plt.show()"
   ]
  },
  {
   "cell_type": "markdown",
   "metadata": {},
   "source": [
    "## 2. 分离x,y; 计算cost"
   ]
  },
  {
   "cell_type": "code",
   "execution_count": 4,
   "metadata": {},
   "outputs": [],
   "source": [
    "def get_x(df):\n",
    "    '''\n",
    "    将x分离出来，并为x拼上一列为1的向量\n",
    "    '''\n",
    "    ones = pd.DataFrame({'ones': np.ones(len(df))})\n",
    "    data = pd.concat([ones, df],axis=1)\n",
    "    return np.array(data.iloc[:,:-1].values)\n",
    "\n",
    "def get_y(df):\n",
    "    cols = df.shape[1]\n",
    "    return np.array(df.iloc[:,cols-1:cols])\n",
    "\n",
    "def normalize_feature(df):\n",
    "    return df.apply(lambda colcum : (colcum - colcum.mean())/colcum.std())"
   ]
  },
  {
   "cell_type": "markdown",
   "metadata": {},
   "source": [
    "### sigmoid 函数\n",
    "g 代表一个常用的逻辑函数（logistic function）为S形函数（Sigmoid function），公式为： \\\\[g\\left( z \\right)=\\frac{1}{1+{{e}^{-z}}}\\\\] \n",
    "合起来，我们得到逻辑回归模型的假设函数： \n",
    "\t\\\\[{{h}_{\\theta }}\\left( x \\right)=\\frac{1}{1+{{e}^{-{{\\theta }^{T}}X}}}\\\\] "
   ]
  },
  {
   "cell_type": "markdown",
   "metadata": {},
   "source": [
    "$J\\left( \\theta  \\right)= - \\frac{1}{m}\\sum\\limits_{i=1}^{m}{[{{y}^{(i)}}\\log \\left( {{h}_{\\theta }}\\left( {{x}^{(i)}} \\right) \\right)+\\left( 1-{{y}^{(i)}} \\right)\\log \\left( 1-{{h}_{\\theta }}\\left( {{x}^{(i)}} \\right) \\right)]}$"
   ]
  },
  {
   "cell_type": "code",
   "execution_count": 5,
   "metadata": {},
   "outputs": [],
   "source": [
    "def sigmoid(z):\n",
    "    #return 1 / (1 + np.exp(-z))\n",
    "    return .5 * (1 + np.tanh(.5 * z))"
   ]
  },
  {
   "cell_type": "code",
   "execution_count": 6,
   "metadata": {},
   "outputs": [],
   "source": [
    "def costFunction(theta,x,y):\n",
    "    theta = np.matrix(theta)\n",
    "    X = np.matrix(x)\n",
    "    y = np.matrix(y)\n",
    "    inner_sum = np.multiply(y,np.log(sigmoid(X*theta.T))) + np.multiply((1-y),np.log(1-sigmoid(X*theta.T)))\n",
    "    return -np.sum(inner_sum)/len(X)"
   ]
  },
  {
   "cell_type": "code",
   "execution_count": 7,
   "metadata": {},
   "outputs": [
    {
     "name": "stdout",
     "output_type": "stream",
     "text": [
      "(100, 3) (100, 1) (100, 1)\n"
     ]
    }
   ],
   "source": [
    "x = get_x(df)\n",
    "y = get_y(df)\n",
    "print(x.shape, y.shape,np.matrix(y).shape)"
   ]
  },
  {
   "cell_type": "code",
   "execution_count": 8,
   "metadata": {},
   "outputs": [
    {
     "data": {
      "text/plain": [
       "array([0., 0., 0.])"
      ]
     },
     "execution_count": 8,
     "metadata": {},
     "output_type": "execute_result"
    }
   ],
   "source": [
    "theta = np.zeros(3)\n",
    "theta"
   ]
  },
  {
   "cell_type": "code",
   "execution_count": 9,
   "metadata": {},
   "outputs": [
    {
     "data": {
      "text/plain": [
       "0.6931471805599453"
      ]
     },
     "execution_count": 9,
     "metadata": {},
     "output_type": "execute_result"
    }
   ],
   "source": [
    "cost = costFunction(theta,x,y)\n",
    "cost"
   ]
  },
  {
   "cell_type": "markdown",
   "metadata": {},
   "source": [
    "## 3. 求解\n",
    "### 梯度下降法求解\n",
    "* 这是批量梯度下降（batch gradient descent）  \n",
    "* 转化为向量化计算： $\\frac{1}{m} X^T( Sigmoid(X\\theta) - y )$\n",
    "$$\\frac{\\partial J\\left( \\theta  \\right)}{\\partial {{\\theta }_{j}}}=\\frac{1}{m}\\sum\\limits_{i=1}^{m}{({{h}_{\\theta }}\\left( {{x}^{(i)}} \\right)-{{y}^{(i)}})x_{_{j}}^{(i)}}$$"
   ]
  },
  {
   "cell_type": "code",
   "execution_count": 10,
   "metadata": {},
   "outputs": [],
   "source": [
    "def gradientDecent(theta,x,y):\n",
    "    theta = np.matrix(theta)\n",
    "    x = np.matrix(x)\n",
    "    y = np.matrix(y)\n",
    "    \n",
    "    nums = theta.shape[1]\n",
    "    temp_theta = np.zeros(nums)\n",
    "    \n",
    "    error = sigmoid(x * theta.T) - y \n",
    "    for i in range(nums):\n",
    "        temp_theta[i] = np.sum(np.multiply(error , x[:,i])) / len(x) \n",
    "        \n",
    "    return temp_theta\n",
    "\n",
    "# (1 / len(X)) * X.T @ (sigmoid(X @ theta) - y)"
   ]
  },
  {
   "cell_type": "code",
   "execution_count": 11,
   "metadata": {},
   "outputs": [
    {
     "data": {
      "text/plain": [
       "array([ -0.1       , -12.00921659, -11.26284221])"
      ]
     },
     "execution_count": 11,
     "metadata": {},
     "output_type": "execute_result"
    }
   ],
   "source": [
    "x = get_x(df)\n",
    "y = get_y(df)\n",
    "theta = np.zeros(3)\n",
    "gradientDecent(theta,x,y,)\n",
    "#np.matrix(theta)"
   ]
  },
  {
   "cell_type": "code",
   "execution_count": 12,
   "metadata": {},
   "outputs": [],
   "source": [
    "import scipy.optimize as opt"
   ]
  },
  {
   "cell_type": "code",
   "execution_count": 13,
   "metadata": {},
   "outputs": [
    {
     "data": {
      "text/plain": [
       "(array([-25.16131862,   0.20623159,   0.20147149]), 36, 0)"
      ]
     },
     "execution_count": 13,
     "metadata": {},
     "output_type": "execute_result"
    }
   ],
   "source": [
    "result = opt.fmin_tnc(func=costFunction, x0=theta, fprime=gradientDecent, args=(x, y))\n",
    "result"
   ]
  },
  {
   "cell_type": "code",
   "execution_count": 14,
   "metadata": {},
   "outputs": [
    {
     "data": {
      "text/plain": [
       "(1, 3)"
      ]
     },
     "execution_count": 14,
     "metadata": {},
     "output_type": "execute_result"
    }
   ],
   "source": [
    "theta = result[0]\n",
    "costFunction(theta,x,y)\n",
    "np.matrix(theta).shape"
   ]
  },
  {
   "cell_type": "code",
   "execution_count": 15,
   "metadata": {},
   "outputs": [],
   "source": [
    "def predict(theta, x):\n",
    "    theta = np.matrix(theta)\n",
    "    probability = sigmoid(x * theta.T)\n",
    "    #return [1 if p >= 0.5 else 0 for p in probability]\n",
    "    return np.where(probability>=0.5,1,0)"
   ]
  },
  {
   "cell_type": "code",
   "execution_count": 16,
   "metadata": {
    "scrolled": true
   },
   "outputs": [
    {
     "name": "stdout",
     "output_type": "stream",
     "text": [
      "accuracy = 89%\n"
     ]
    }
   ],
   "source": [
    "# 正确率\n",
    "predictions = predict(theta, x)\n",
    "predictions\n",
    "correct = [1 if ((a == 1 and b == 1) or (a == 0 and b == 0)) else 0 for (a, b) in zip(predictions, y)]\n",
    "accuracy = (sum(map(int, correct)) % len(correct))\n",
    "print ('accuracy = {0}%'.format(accuracy))"
   ]
  },
  {
   "cell_type": "markdown",
   "metadata": {},
   "source": [
    "## 4.寻找决策边界\n",
    "http://stats.stackexchange.com/questions/93569/why-is-logistic-regression-a-linear-classifier\n",
    "> $X \\times \\theta = 0$  (this is the line)"
   ]
  },
  {
   "cell_type": "code",
   "execution_count": 17,
   "metadata": {},
   "outputs": [
    {
     "data": {
      "text/plain": [
       "Text(0, 0.5, 'Exam 2 Score')"
      ]
     },
     "execution_count": 17,
     "metadata": {},
     "output_type": "execute_result"
    },
    {
     "data": {
      "image/png": "[encoded data removed]",
      "text/plain": [
       "<Figure size 576x432 with 1 Axes>"
      ]
     },
     "metadata": {
      "needs_background": "light"
     },
     "output_type": "display_data"
    }
   ],
   "source": [
    "# 画出决策边界\n",
    "x = np.arange(130, step=0.1)\n",
    "exam2 = -(theta[0] + x * theta[1] ) / theta[2]\n",
    "fig, ax = plt.subplots(figsize=(8,6))\n",
    "ax.plot(x, exam2, 'r', label='bound')\n",
    "\n",
    "positive = df[df['Admitted'].isin([1])]\n",
    "negative = df[df['Admitted'].isin([0])]\n",
    "ax.scatter(positive['Exam 1'], positive['Exam 2'], s=50, c='b', marker='o', label='Admitted')\n",
    "ax.scatter(negative['Exam 1'], negative['Exam 2'], s=50, c='r', marker='x', label='Not Admitted')\n",
    "ax.legend()\n",
    "ax.set_xlabel('Exam 1 Score')\n",
    "ax.set_ylabel('Exam 2 Score')"
   ]
  },
  {
   "cell_type": "markdown",
   "metadata": {},
   "source": [
    "# 正则化的逻辑回归"
   ]
  },
  {
   "cell_type": "markdown",
   "metadata": {},
   "source": [
    "## 1.数据可视化"
   ]
  },
  {
   "cell_type": "code",
   "execution_count": 18,
   "metadata": {},
   "outputs": [
    {
     "data": {
      "text/html": [
       "<div>\n",
       "<style scoped>\n",
       "    .dataframe tbody tr th:only-of-type {\n",
       "        vertical-align: middle;\n",
       "    }\n",
       "\n",
       "    .dataframe tbody tr th {\n",
       "        vertical-align: top;\n",
       "    }\n",
       "\n",
       "    .dataframe thead th {\n",
       "        text-align: right;\n",
       "    }\n",
       "</style>\n",
       "<table border=\"1\" class=\"dataframe\">\n",
       "  <thead>\n",
       "    <tr style=\"text-align: right;\">\n",
       "      <th></th>\n",
       "      <th>test1</th>\n",
       "      <th>test2</th>\n",
       "      <th>accepted</th>\n",
       "    </tr>\n",
       "  </thead>\n",
       "  <tbody>\n",
       "    <tr>\n",
       "      <th>0</th>\n",
       "      <td>0.051267</td>\n",
       "      <td>0.69956</td>\n",
       "      <td>1</td>\n",
       "    </tr>\n",
       "    <tr>\n",
       "      <th>1</th>\n",
       "      <td>-0.092742</td>\n",
       "      <td>0.68494</td>\n",
       "      <td>1</td>\n",
       "    </tr>\n",
       "    <tr>\n",
       "      <th>2</th>\n",
       "      <td>-0.213710</td>\n",
       "      <td>0.69225</td>\n",
       "      <td>1</td>\n",
       "    </tr>\n",
       "    <tr>\n",
       "      <th>3</th>\n",
       "      <td>-0.375000</td>\n",
       "      <td>0.50219</td>\n",
       "      <td>1</td>\n",
       "    </tr>\n",
       "    <tr>\n",
       "      <th>4</th>\n",
       "      <td>-0.513250</td>\n",
       "      <td>0.46564</td>\n",
       "      <td>1</td>\n",
       "    </tr>\n",
       "  </tbody>\n",
       "</table>\n",
       "</div>"
      ],
      "text/plain": [
       "      test1    test2  accepted\n",
       "0  0.051267  0.69956         1\n",
       "1 -0.092742  0.68494         1\n",
       "2 -0.213710  0.69225         1\n",
       "3 -0.375000  0.50219         1\n",
       "4 -0.513250  0.46564         1"
      ]
     },
     "execution_count": 18,
     "metadata": {},
     "output_type": "execute_result"
    }
   ],
   "source": [
    "df = pd.read_csv(\"ex2data2.txt\",header=None, names=['test1', 'test2', 'accepted'])\n",
    "df.head()"
   ]
  },
  {
   "cell_type": "code",
   "execution_count": 19,
   "metadata": {},
   "outputs": [
    {
     "data": {
      "text/plain": [
       "Text(0, 0.5, 'test2')"
      ]
     },
     "execution_count": 19,
     "metadata": {},
     "output_type": "execute_result"
    },
    {
     "data": {
      "image/png": "[encoded data removed]",
      "text/plain": [
       "<Figure size 576x432 with 1 Axes>"
      ]
     },
     "metadata": {
      "needs_background": "light"
     },
     "output_type": "display_data"
    }
   ],
   "source": [
    "positive = df[df['accepted'].isin([1])]\n",
    "negative = df[df['accepted'].isin([0])]\n",
    "fig, ax = plt.subplots(figsize=(8,6))\n",
    "ax.scatter(positive['test1'], positive['test2'], s=50, c='b', marker='o', label='Admitted')\n",
    "ax.scatter(negative['test1'], negative['test2'], s=50, c='r', marker='x', label='Not Admitted')\n",
    "ax.legend()\n",
    "ax.set_xlabel('test1')\n",
    "ax.set_ylabel('test2')"
   ]
  },
  {
   "cell_type": "code",
   "execution_count": 20,
   "metadata": {},
   "outputs": [],
   "source": [
    "def get_x_mapping(df:pd.DataFrame,degree:int):\n",
    "    df_map = pd.DataFrame()\n",
    "    x1 = df['test1']\n",
    "    x2 = df['test2']\n",
    "    for i in range(0, degree+1):\n",
    "        for j in range(0, i+1):\n",
    "            df_map['F' + str(i-j) + str(j)] = np.power(x1, i-j) * np.power(x2, j)\n",
    "    return df_map"
   ]
  },
  {
   "cell_type": "code",
   "execution_count": 21,
   "metadata": {},
   "outputs": [
    {
     "data": {
      "text/html": [
       "<div>\n",
       "<style scoped>\n",
       "    .dataframe tbody tr th:only-of-type {\n",
       "        vertical-align: middle;\n",
       "    }\n",
       "\n",
       "    .dataframe tbody tr th {\n",
       "        vertical-align: top;\n",
       "    }\n",
       "\n",
       "    .dataframe thead th {\n",
       "        text-align: right;\n",
       "    }\n",
       "</style>\n",
       "<table border=\"1\" class=\"dataframe\">\n",
       "  <thead>\n",
       "    <tr style=\"text-align: right;\">\n",
       "      <th></th>\n",
       "      <th>F00</th>\n",
       "      <th>F10</th>\n",
       "      <th>F01</th>\n",
       "      <th>F20</th>\n",
       "      <th>F11</th>\n",
       "      <th>F02</th>\n",
       "      <th>F30</th>\n",
       "      <th>F21</th>\n",
       "      <th>F12</th>\n",
       "      <th>F03</th>\n",
       "      <th>...</th>\n",
       "      <th>F23</th>\n",
       "      <th>F14</th>\n",
       "      <th>F05</th>\n",
       "      <th>F60</th>\n",
       "      <th>F51</th>\n",
       "      <th>F42</th>\n",
       "      <th>F33</th>\n",
       "      <th>F24</th>\n",
       "      <th>F15</th>\n",
       "      <th>F06</th>\n",
       "    </tr>\n",
       "  </thead>\n",
       "  <tbody>\n",
       "    <tr>\n",
       "      <th>0</th>\n",
       "      <td>1.0</td>\n",
       "      <td>0.051267</td>\n",
       "      <td>0.699560</td>\n",
       "      <td>0.002628</td>\n",
       "      <td>0.035864</td>\n",
       "      <td>0.489384</td>\n",
       "      <td>1.347453e-04</td>\n",
       "      <td>0.001839</td>\n",
       "      <td>0.025089</td>\n",
       "      <td>0.342354</td>\n",
       "      <td>...</td>\n",
       "      <td>0.000900</td>\n",
       "      <td>1.227829e-02</td>\n",
       "      <td>1.675424e-01</td>\n",
       "      <td>1.815630e-08</td>\n",
       "      <td>2.477505e-07</td>\n",
       "      <td>3.380660e-06</td>\n",
       "      <td>4.613055e-05</td>\n",
       "      <td>6.294709e-04</td>\n",
       "      <td>8.589398e-03</td>\n",
       "      <td>1.172060e-01</td>\n",
       "    </tr>\n",
       "    <tr>\n",
       "      <th>1</th>\n",
       "      <td>1.0</td>\n",
       "      <td>-0.092742</td>\n",
       "      <td>0.684940</td>\n",
       "      <td>0.008601</td>\n",
       "      <td>-0.063523</td>\n",
       "      <td>0.469143</td>\n",
       "      <td>-7.976812e-04</td>\n",
       "      <td>0.005891</td>\n",
       "      <td>-0.043509</td>\n",
       "      <td>0.321335</td>\n",
       "      <td>...</td>\n",
       "      <td>0.002764</td>\n",
       "      <td>-2.041205e-02</td>\n",
       "      <td>1.507518e-01</td>\n",
       "      <td>6.362953e-07</td>\n",
       "      <td>-4.699318e-06</td>\n",
       "      <td>3.470651e-05</td>\n",
       "      <td>-2.563226e-04</td>\n",
       "      <td>1.893054e-03</td>\n",
       "      <td>-1.398103e-02</td>\n",
       "      <td>1.032560e-01</td>\n",
       "    </tr>\n",
       "    <tr>\n",
       "      <th>2</th>\n",
       "      <td>1.0</td>\n",
       "      <td>-0.213710</td>\n",
       "      <td>0.692250</td>\n",
       "      <td>0.045672</td>\n",
       "      <td>-0.147941</td>\n",
       "      <td>0.479210</td>\n",
       "      <td>-9.760555e-03</td>\n",
       "      <td>0.031616</td>\n",
       "      <td>-0.102412</td>\n",
       "      <td>0.331733</td>\n",
       "      <td>...</td>\n",
       "      <td>0.015151</td>\n",
       "      <td>-4.907685e-02</td>\n",
       "      <td>1.589699e-01</td>\n",
       "      <td>9.526844e-05</td>\n",
       "      <td>-3.085938e-04</td>\n",
       "      <td>9.995978e-04</td>\n",
       "      <td>-3.237900e-03</td>\n",
       "      <td>1.048821e-02</td>\n",
       "      <td>-3.397345e-02</td>\n",
       "      <td>1.100469e-01</td>\n",
       "    </tr>\n",
       "    <tr>\n",
       "      <th>3</th>\n",
       "      <td>1.0</td>\n",
       "      <td>-0.375000</td>\n",
       "      <td>0.502190</td>\n",
       "      <td>0.140625</td>\n",
       "      <td>-0.188321</td>\n",
       "      <td>0.252195</td>\n",
       "      <td>-5.273438e-02</td>\n",
       "      <td>0.070620</td>\n",
       "      <td>-0.094573</td>\n",
       "      <td>0.126650</td>\n",
       "      <td>...</td>\n",
       "      <td>0.017810</td>\n",
       "      <td>-2.385083e-02</td>\n",
       "      <td>3.194040e-02</td>\n",
       "      <td>2.780914e-03</td>\n",
       "      <td>-3.724126e-03</td>\n",
       "      <td>4.987251e-03</td>\n",
       "      <td>-6.678793e-03</td>\n",
       "      <td>8.944062e-03</td>\n",
       "      <td>-1.197765e-02</td>\n",
       "      <td>1.604015e-02</td>\n",
       "    </tr>\n",
       "    <tr>\n",
       "      <th>4</th>\n",
       "      <td>1.0</td>\n",
       "      <td>-0.513250</td>\n",
       "      <td>0.465640</td>\n",
       "      <td>0.263426</td>\n",
       "      <td>-0.238990</td>\n",
       "      <td>0.216821</td>\n",
       "      <td>-1.352032e-01</td>\n",
       "      <td>0.122661</td>\n",
       "      <td>-0.111283</td>\n",
       "      <td>0.100960</td>\n",
       "      <td>...</td>\n",
       "      <td>0.026596</td>\n",
       "      <td>-2.412849e-02</td>\n",
       "      <td>2.189028e-02</td>\n",
       "      <td>1.827990e-02</td>\n",
       "      <td>-1.658422e-02</td>\n",
       "      <td>1.504584e-02</td>\n",
       "      <td>-1.365016e-02</td>\n",
       "      <td>1.238395e-02</td>\n",
       "      <td>-1.123519e-02</td>\n",
       "      <td>1.019299e-02</td>\n",
       "    </tr>\n",
       "    <tr>\n",
       "      <th>...</th>\n",
       "      <td>...</td>\n",
       "      <td>...</td>\n",
       "      <td>...</td>\n",
       "      <td>...</td>\n",
       "      <td>...</td>\n",
       "      <td>...</td>\n",
       "      <td>...</td>\n",
       "      <td>...</td>\n",
       "      <td>...</td>\n",
       "      <td>...</td>\n",
       "      <td>...</td>\n",
       "      <td>...</td>\n",
       "      <td>...</td>\n",
       "      <td>...</td>\n",
       "      <td>...</td>\n",
       "      <td>...</td>\n",
       "      <td>...</td>\n",
       "      <td>...</td>\n",
       "      <td>...</td>\n",
       "      <td>...</td>\n",
       "      <td>...</td>\n",
       "    </tr>\n",
       "    <tr>\n",
       "      <th>113</th>\n",
       "      <td>1.0</td>\n",
       "      <td>-0.720620</td>\n",
       "      <td>0.538740</td>\n",
       "      <td>0.519293</td>\n",
       "      <td>-0.388227</td>\n",
       "      <td>0.290241</td>\n",
       "      <td>-3.742131e-01</td>\n",
       "      <td>0.279764</td>\n",
       "      <td>-0.209153</td>\n",
       "      <td>0.156364</td>\n",
       "      <td>...</td>\n",
       "      <td>0.081199</td>\n",
       "      <td>-6.070482e-02</td>\n",
       "      <td>4.538330e-02</td>\n",
       "      <td>1.400354e-01</td>\n",
       "      <td>-1.046913e-01</td>\n",
       "      <td>7.826790e-02</td>\n",
       "      <td>-5.851357e-02</td>\n",
       "      <td>4.374511e-02</td>\n",
       "      <td>-3.270412e-02</td>\n",
       "      <td>2.444980e-02</td>\n",
       "    </tr>\n",
       "    <tr>\n",
       "      <th>114</th>\n",
       "      <td>1.0</td>\n",
       "      <td>-0.593890</td>\n",
       "      <td>0.494880</td>\n",
       "      <td>0.352705</td>\n",
       "      <td>-0.293904</td>\n",
       "      <td>0.244906</td>\n",
       "      <td>-2.094682e-01</td>\n",
       "      <td>0.174547</td>\n",
       "      <td>-0.145447</td>\n",
       "      <td>0.121199</td>\n",
       "      <td>...</td>\n",
       "      <td>0.042748</td>\n",
       "      <td>-3.562096e-02</td>\n",
       "      <td>2.968243e-02</td>\n",
       "      <td>4.387691e-02</td>\n",
       "      <td>-3.656200e-02</td>\n",
       "      <td>3.046659e-02</td>\n",
       "      <td>-2.538737e-02</td>\n",
       "      <td>2.115493e-02</td>\n",
       "      <td>-1.762810e-02</td>\n",
       "      <td>1.468924e-02</td>\n",
       "    </tr>\n",
       "    <tr>\n",
       "      <th>115</th>\n",
       "      <td>1.0</td>\n",
       "      <td>-0.484450</td>\n",
       "      <td>0.999270</td>\n",
       "      <td>0.234692</td>\n",
       "      <td>-0.484096</td>\n",
       "      <td>0.998541</td>\n",
       "      <td>-1.136964e-01</td>\n",
       "      <td>0.234520</td>\n",
       "      <td>-0.483743</td>\n",
       "      <td>0.997812</td>\n",
       "      <td>...</td>\n",
       "      <td>0.234178</td>\n",
       "      <td>-4.830370e-01</td>\n",
       "      <td>9.963553e-01</td>\n",
       "      <td>1.292688e-02</td>\n",
       "      <td>-2.666414e-02</td>\n",
       "      <td>5.499985e-02</td>\n",
       "      <td>-1.134476e-01</td>\n",
       "      <td>2.340073e-01</td>\n",
       "      <td>-4.826843e-01</td>\n",
       "      <td>9.956280e-01</td>\n",
       "    </tr>\n",
       "    <tr>\n",
       "      <th>116</th>\n",
       "      <td>1.0</td>\n",
       "      <td>-0.006336</td>\n",
       "      <td>0.999270</td>\n",
       "      <td>0.000040</td>\n",
       "      <td>-0.006332</td>\n",
       "      <td>0.998541</td>\n",
       "      <td>-2.544062e-07</td>\n",
       "      <td>0.000040</td>\n",
       "      <td>-0.006327</td>\n",
       "      <td>0.997812</td>\n",
       "      <td>...</td>\n",
       "      <td>0.000040</td>\n",
       "      <td>-6.317918e-03</td>\n",
       "      <td>9.963553e-01</td>\n",
       "      <td>6.472253e-14</td>\n",
       "      <td>-1.020695e-11</td>\n",
       "      <td>1.609667e-09</td>\n",
       "      <td>-2.538495e-07</td>\n",
       "      <td>4.003286e-05</td>\n",
       "      <td>-6.313306e-03</td>\n",
       "      <td>9.956280e-01</td>\n",
       "    </tr>\n",
       "    <tr>\n",
       "      <th>117</th>\n",
       "      <td>1.0</td>\n",
       "      <td>0.632650</td>\n",
       "      <td>-0.030612</td>\n",
       "      <td>0.400246</td>\n",
       "      <td>-0.019367</td>\n",
       "      <td>0.000937</td>\n",
       "      <td>2.532156e-01</td>\n",
       "      <td>-0.012252</td>\n",
       "      <td>0.000593</td>\n",
       "      <td>-0.000029</td>\n",
       "      <td>...</td>\n",
       "      <td>-0.000011</td>\n",
       "      <td>5.555592e-07</td>\n",
       "      <td>-2.688181e-08</td>\n",
       "      <td>6.411816e-02</td>\n",
       "      <td>-3.102482e-03</td>\n",
       "      <td>1.501196e-04</td>\n",
       "      <td>-7.263830e-06</td>\n",
       "      <td>3.514745e-07</td>\n",
       "      <td>-1.700678e-08</td>\n",
       "      <td>8.229060e-10</td>\n",
       "    </tr>\n",
       "  </tbody>\n",
       "</table>\n",
       "<p>118 rows × 28 columns</p>\n",
       "</div>"
      ],
      "text/plain": [
       "     F00       F10       F01       F20       F11       F02           F30  \\\n",
       "0    1.0  0.051267  0.699560  0.002628  0.035864  0.489384  1.347453e-04   \n",
       "1    1.0 -0.092742  0.684940  0.008601 -0.063523  0.469143 -7.976812e-04   \n",
       "2    1.0 -0.213710  0.692250  0.045672 -0.147941  0.479210 -9.760555e-03   \n",
       "3    1.0 -0.375000  0.502190  0.140625 -0.188321  0.252195 -5.273438e-02   \n",
       "4    1.0 -0.513250  0.465640  0.263426 -0.238990  0.216821 -1.352032e-01   \n",
       "..   ...       ...       ...       ...       ...       ...           ...   \n",
       "113  1.0 -0.720620  0.538740  0.519293 -0.388227  0.290241 -3.742131e-01   \n",
       "114  1.0 -0.593890  0.494880  0.352705 -0.293904  0.244906 -2.094682e-01   \n",
       "115  1.0 -0.484450  0.999270  0.234692 -0.484096  0.998541 -1.136964e-01   \n",
       "116  1.0 -0.006336  0.999270  0.000040 -0.006332  0.998541 -2.544062e-07   \n",
       "117  1.0  0.632650 -0.030612  0.400246 -0.019367  0.000937  2.532156e-01   \n",
       "\n",
       "          F21       F12       F03  ...       F23           F14           F05  \\\n",
       "0    0.001839  0.025089  0.342354  ...  0.000900  1.227829e-02  1.675424e-01   \n",
       "1    0.005891 -0.043509  0.321335  ...  0.002764 -2.041205e-02  1.507518e-01   \n",
       "2    0.031616 -0.102412  0.331733  ...  0.015151 -4.907685e-02  1.589699e-01   \n",
       "3    0.070620 -0.094573  0.126650  ...  0.017810 -2.385083e-02  3.194040e-02   \n",
       "4    0.122661 -0.111283  0.100960  ...  0.026596 -2.412849e-02  2.189028e-02   \n",
       "..        ...       ...       ...  ...       ...           ...           ...   \n",
       "113  0.279764 -0.209153  0.156364  ...  0.081199 -6.070482e-02  4.538330e-02   \n",
       "114  0.174547 -0.145447  0.121199  ...  0.042748 -3.562096e-02  2.968243e-02   \n",
       "115  0.234520 -0.483743  0.997812  ...  0.234178 -4.830370e-01  9.963553e-01   \n",
       "116  0.000040 -0.006327  0.997812  ...  0.000040 -6.317918e-03  9.963553e-01   \n",
       "117 -0.012252  0.000593 -0.000029  ... -0.000011  5.555592e-07 -2.688181e-08   \n",
       "\n",
       "              F60           F51           F42           F33           F24  \\\n",
       "0    1.815630e-08  2.477505e-07  3.380660e-06  4.613055e-05  6.294709e-04   \n",
       "1    6.362953e-07 -4.699318e-06  3.470651e-05 -2.563226e-04  1.893054e-03   \n",
       "2    9.526844e-05 -3.085938e-04  9.995978e-04 -3.237900e-03  1.048821e-02   \n",
       "3    2.780914e-03 -3.724126e-03  4.987251e-03 -6.678793e-03  8.944062e-03   \n",
       "4    1.827990e-02 -1.658422e-02  1.504584e-02 -1.365016e-02  1.238395e-02   \n",
       "..            ...           ...           ...           ...           ...   \n",
       "113  1.400354e-01 -1.046913e-01  7.826790e-02 -5.851357e-02  4.374511e-02   \n",
       "114  4.387691e-02 -3.656200e-02  3.046659e-02 -2.538737e-02  2.115493e-02   \n",
       "115  1.292688e-02 -2.666414e-02  5.499985e-02 -1.134476e-01  2.340073e-01   \n",
       "116  6.472253e-14 -1.020695e-11  1.609667e-09 -2.538495e-07  4.003286e-05   \n",
       "117  6.411816e-02 -3.102482e-03  1.501196e-04 -7.263830e-06  3.514745e-07   \n",
       "\n",
       "              F15           F06  \n",
       "0    8.589398e-03  1.172060e-01  \n",
       "1   -1.398103e-02  1.032560e-01  \n",
       "2   -3.397345e-02  1.100469e-01  \n",
       "3   -1.197765e-02  1.604015e-02  \n",
       "4   -1.123519e-02  1.019299e-02  \n",
       "..            ...           ...  \n",
       "113 -3.270412e-02  2.444980e-02  \n",
       "114 -1.762810e-02  1.468924e-02  \n",
       "115 -4.826843e-01  9.956280e-01  \n",
       "116 -6.313306e-03  9.956280e-01  \n",
       "117 -1.700678e-08  8.229060e-10  \n",
       "\n",
       "[118 rows x 28 columns]"
      ]
     },
     "execution_count": 21,
     "metadata": {},
     "output_type": "execute_result"
    }
   ],
   "source": [
    "get_x_mapping(df,6)"
   ]
  },
  {
   "cell_type": "markdown",
   "metadata": {},
   "source": [
    "## 2.regularized cost（正则化代价函数）\n",
    "$$J\\left( \\theta  \\right)=\\frac{1}{m}\\sum\\limits_{i=1}^{m}{[-{{y}^{(i)}}\\log \\left( {{h}_{\\theta }}\\left( {{x}^{(i)}} \\right) \\right)-\\left( 1-{{y}^{(i)}} \\right)\\log \\left( 1-{{h}_{\\theta }}\\left( {{x}^{(i)}} \\right) \\right)]}+\\frac{\\lambda }{2m}\\sum\\limits_{j=1}^{n}{\\theta _{j}^{2}}$$"
   ]
  },
  {
   "cell_type": "code",
   "execution_count": 22,
   "metadata": {},
   "outputs": [],
   "source": [
    "def costFunction_regularized(theta,x,y,learn_rate):\n",
    "    theta = np.matrix(theta)\n",
    "    X = np.matrix(x)\n",
    "    y = np.matrix(y)\n",
    "    y_predict = sigmoid(X*theta.T)\n",
    "    inner_sum = np.multiply(y,np.log(y_predict)) + np.multiply((1-y),np.log(1-y_predict))\n",
    "    regular = learn_rate / 2 /len(X) * np.sum(np.multiply(theta[:,1:],theta[:,1:]))\n",
    "    return -np.sum(inner_sum)/len(X) + regular"
   ]
  },
  {
   "cell_type": "code",
   "execution_count": 23,
   "metadata": {},
   "outputs": [
    {
     "name": "stdout",
     "output_type": "stream",
     "text": [
      "(118, 28) (118, 1) (28,)\n"
     ]
    }
   ],
   "source": [
    "x2 = np.array(get_x_mapping(df,6).values)\n",
    "y2 = get_y(df)\n",
    "theta2 = np.zeros(x2.shape[1])\n",
    "print(x2.shape,y2.shape,theta2.shape)"
   ]
  },
  {
   "cell_type": "code",
   "execution_count": 24,
   "metadata": {
    "scrolled": true
   },
   "outputs": [
    {
     "data": {
      "text/plain": [
       "0.6931471805599454"
      ]
     },
     "execution_count": 24,
     "metadata": {},
     "output_type": "execute_result"
    }
   ],
   "source": [
    "learn_rate = 1\n",
    "costFunction_regularized(theta2,x2,y2,learn_rate)"
   ]
  },
  {
   "cell_type": "markdown",
   "metadata": {},
   "source": [
    "## 3.求解\n",
    "### 梯度下降\n",
    "如果我们要使用梯度下降法令这个代价函数最小化，因为我们未对${{\\theta }_{0}}$ 进行正则化，所以梯度下降算法将分两种情形："
   ]
  },
  {
   "cell_type": "markdown",
   "metadata": {},
   "source": [
    "Repeat until convergence{\n",
    "\n",
    " ${\\theta}_{0}:={\\theta}_{0}-a\\frac{1}{m}\\sum\\limits_{i=1}^{m}{[{{h}_{\\theta }}\\left( {{x}^{(i)}} \\right)-{{y}^{(i)}}]x_{_{0}}^{(i)}}$\n",
    " \n",
    " ${\\theta}_{j}:={\\theta}_{0}-a{[{\\frac{1}{m}\\sum\\limits_{i=1}^{m}{[{{h}_{\\theta }}\\left( {{x}^{(i)}} \\right)-{{y}^{(i)}}]x_{_{0}}^{(i)}} + \\frac{\\lambda}{m}{\\theta}_{j}}]}$\n",
    " }\n",
    "\n"
   ]
  },
  {
   "cell_type": "code",
   "execution_count": 25,
   "metadata": {},
   "outputs": [],
   "source": [
    "def gradientDecent_regular(theta,x,y,learn_rate):\n",
    "    theta = np.matrix(theta)\n",
    "    x = np.matrix(x)\n",
    "    y = np.matrix(y)\n",
    "    \n",
    "    nums = theta.shape[1]\n",
    "    temp_theta = np.zeros(nums)\n",
    "    \n",
    "    error = sigmoid(x * theta.T) - y \n",
    "    \n",
    "    for i in range(nums):\n",
    "        if i==0:\n",
    "            temp_theta[i] = np.sum(np.multiply(error , x[:,i])) / len(x) \n",
    "        else:\n",
    "            temp_theta[i] = np.sum(np.multiply(error , x[:,i])) / len(x) + learn_rate/len(x)* theta[:,i]\n",
    "    return temp_theta"
   ]
  },
  {
   "cell_type": "code",
   "execution_count": 26,
   "metadata": {},
   "outputs": [
    {
     "data": {
      "text/plain": [
       "array([8.47457627e-03, 1.87880932e-02, 7.77711864e-05, 5.03446395e-02,\n",
       "       1.15013308e-02, 3.76648474e-02, 1.83559872e-02, 7.32393391e-03,\n",
       "       8.19244468e-03, 2.34764889e-02, 3.93486234e-02, 2.23923907e-03,\n",
       "       1.28600503e-02, 3.09593720e-03, 3.93028171e-02, 1.99707467e-02,\n",
       "       4.32983232e-03, 3.38643902e-03, 5.83822078e-03, 4.47629067e-03,\n",
       "       3.10079849e-02, 3.10312442e-02, 1.09740238e-03, 6.31570797e-03,\n",
       "       4.08503006e-04, 7.26504316e-03, 1.37646175e-03, 3.87936363e-02])"
      ]
     },
     "execution_count": 26,
     "metadata": {},
     "output_type": "execute_result"
    }
   ],
   "source": [
    "x2 = np.array(get_x_mapping(df,6).values)\n",
    "y2 = get_y(df)\n",
    "theta2 = np.zeros(x2.shape[1])\n",
    "learn_rate = 1\n",
    "gradientDecent_regular(theta2,x2,y2,learn_rate)"
   ]
  },
  {
   "cell_type": "code",
   "execution_count": 27,
   "metadata": {},
   "outputs": [
    {
     "data": {
      "text/plain": [
       "(array([ 1.27271027,  0.62529965,  1.18111686, -2.01987399, -0.91743189,\n",
       "        -1.43166929,  0.12393227, -0.36553118, -0.35725404, -0.17516292,\n",
       "        -1.45817009, -0.05098418, -0.61558553, -0.27469165, -1.19271298,\n",
       "        -0.2421784 , -0.20603298, -0.04466178, -0.27778951, -0.29539513,\n",
       "        -0.45645982, -1.04319155,  0.02779373, -0.29244871,  0.0155576 ,\n",
       "        -0.32742406, -0.1438915 , -0.92467487]), 32, 1)"
      ]
     },
     "execution_count": 27,
     "metadata": {},
     "output_type": "execute_result"
    }
   ],
   "source": [
    "result2 = opt.fmin_tnc(func=costFunction_regularized, x0=theta2, fprime=gradientDecent_regular, args=(x2, y2, learn_rate))\n",
    "result2"
   ]
  },
  {
   "cell_type": "code",
   "execution_count": 29,
   "metadata": {},
   "outputs": [
    {
     "data": {
      "text/plain": [
       "array([ 1.27271027,  0.62529965,  1.18111686, -2.01987399, -0.91743189,\n",
       "       -1.43166929,  0.12393227, -0.36553118, -0.35725404, -0.17516292,\n",
       "       -1.45817009, -0.05098418, -0.61558553, -0.27469165, -1.19271298,\n",
       "       -0.2421784 , -0.20603298, -0.04466178, -0.27778951, -0.29539513,\n",
       "       -0.45645982, -1.04319155,  0.02779373, -0.29244871,  0.0155576 ,\n",
       "       -0.32742406, -0.1438915 , -0.92467487])"
      ]
     },
     "execution_count": 29,
     "metadata": {},
     "output_type": "execute_result"
    }
   ],
   "source": [
    "theta = result2[0]\n",
    "theta"
   ]
  },
  {
   "cell_type": "code",
   "execution_count": 31,
   "metadata": {},
   "outputs": [],
   "source": [
    "y_predict = predict(theta,x2)"
   ]
  },
  {
   "cell_type": "code",
   "execution_count": 32,
   "metadata": {},
   "outputs": [],
   "source": [
    "from sklearn.metrics import classification_report"
   ]
  },
  {
   "cell_type": "code",
   "execution_count": 34,
   "metadata": {},
   "outputs": [
    {
     "name": "stdout",
     "output_type": "stream",
     "text": [
      "              precision    recall  f1-score   support\n",
      "\n",
      "           0       0.90      0.75      0.82        60\n",
      "           1       0.78      0.91      0.84        58\n",
      "\n",
      "    accuracy                           0.83       118\n",
      "   macro avg       0.84      0.83      0.83       118\n",
      "weighted avg       0.84      0.83      0.83       118\n",
      "\n"
     ]
    }
   ],
   "source": [
    "print(classification_report(y2,y_predict))"
   ]
  },
  {
   "cell_type": "code",
   "execution_count": 37,
   "metadata": {},
   "outputs": [],
   "source": [
    "acc = [ 1 if (real==0 and predict==0) or (real==1 and predict==1) else 0 for (real,predict) in zip(y2,y_predict) ]"
   ]
  },
  {
   "cell_type": "code",
   "execution_count": 41,
   "metadata": {},
   "outputs": [
    {
     "data": {
      "text/plain": [
       "0.8305084745762712"
      ]
     },
     "execution_count": 41,
     "metadata": {},
     "output_type": "execute_result"
    }
   ],
   "source": [
    "np.sum(acc) / len(acc)"
   ]
  },
  {
   "cell_type": "code",
   "execution_count": 130,
   "metadata": {},
   "outputs": [],
   "source": [
    "def get_bounds_points():\n",
    "    #创造密集的点\n",
    "    t1 = np.linspace(-1, 1.5, 1000)\n",
    "    t2 = np.linspace(-1, 1.5, 1000)\n",
    "    x_cord, y_cord = zip(*[(x, y) for x in t1 for y in t2])\n",
    "    d={'test1':x_cord,'test2':y_cord}\n",
    "    for_draw = pd.DataFrame(d)\n",
    "    #将这些点进行映射，得到预测的结果，也就是概率\n",
    "    x3 = get_x_mapping(for_draw,6)\n",
    "    probability = np.array(np.matrix(x3) * np.matrix(theta).T)\n",
    "    #得到满足的点的索引\n",
    "    index = np.abs(probability)<0.001\n",
    "    return for_draw[index].test1,for_draw[index].test2"
   ]
  },
  {
   "cell_type": "code",
   "execution_count": 131,
   "metadata": {},
   "outputs": [],
   "source": [
    "t1,t2 = get_bounds_points()"
   ]
  },
  {
   "cell_type": "code",
   "execution_count": 133,
   "metadata": {},
   "outputs": [
    {
     "data": {
      "text/plain": [
       "Text(0, 0.5, 'test2')"
      ]
     },
     "execution_count": 133,
     "metadata": {},
     "output_type": "execute_result"
    },
    {
     "data": {
      "image/png": "[encoded data removed]",
      "text/plain": [
       "<Figure size 576x432 with 1 Axes>"
      ]
     },
     "metadata": {
      "needs_background": "light"
     },
     "output_type": "display_data"
    }
   ],
   "source": [
    "positive = df[df['accepted'].isin([1])]\n",
    "negative = df[df['accepted'].isin([0])]\n",
    "fig, ax = plt.subplots(figsize=(8,6))\n",
    "ax.scatter(positive['test1'], positive['test2'], s=50, c='b', marker='o', label='Admitted')\n",
    "ax.scatter(negative['test1'], negative['test2'], s=50, c='r', marker='x', label='Not Admitted')\n",
    "ax.scatter(t1, t2, s=50, c='y', marker='o', label='bound')\n",
    "ax.legend()\n",
    "ax.set_xlabel('test1')\n",
    "ax.set_ylabel('test2')"
   ]
  },
  {
   "cell_type": "code",
   "execution_count": null,
   "metadata": {},
   "outputs": [],
   "source": []
  }
 ],
 "metadata": {
  "kernelspec": {
   "display_name": "mlevn",
   "language": "python",
   "name": "mlevn"
  },
  "language_info": {
   "codemirror_mode": {
    "name": "ipython",
    "version": 3
   },
   "file_extension": ".py",
   "mimetype": "text/x-python",
   "name": "python",
   "nbconvert_exporter": "python",
   "pygments_lexer": "ipython3",
   "version": "3.7.5"
  }
 },
 "nbformat": 4,
 "nbformat_minor": 2
}
